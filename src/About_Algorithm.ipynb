{
  "cells": [
    {
      "cell_type": "markdown",
      "source": [
        "---"
      ],
      "metadata": {
        "id": "WXt-zuCyjxbM"
      }
    },
    {
      "cell_type": "markdown",
      "metadata": {
        "id": "uhJpwE8_i6Mj"
      },
      "source": [
        "\n",
        "    \n",
        "# An-Algorithm-for-Peer-Reviewer-Recommendation-based-on-Scholarly-Activity-Assessment\n",
        "\n",
        "An Algorithm for Peer Reviewer Recommendation based on Scholarly Activity Assessment\n",
        "\n"
      ]
    },
    {
      "cell_type": "markdown",
      "metadata": {
        "id": "T0yLo-SYi6Mo"
      },
      "source": [
        "---"
      ]
    },
    {
      "cell_type": "markdown",
      "metadata": {
        "id": "CZEhKmMQi6Mp"
      },
      "source": [
        "### Abstract\n",
        "> Journal editors are putting a lot of effort into selecting appropriate reviewers for fair and reliable peer review of submitted manuscripts. Editors consider whether the reviewers have no affinity with any of the authors of manuscripts and have sufficient expertise in reviewing the manuscripts. The affinity can be evaluated by whether any of the reviewers has been a coauthor and/or a coworker in a common institution with any of the authors of the manuscript. The expertise depends on the similarity of the research topic between the reviewer’s published papers and the submitted manuscripts. In this paper we propose an algorithm to recommend appropriate reviewers to editors, based on the assessment of these scholarly activities and achievements. To implement this algorithm, TextRank and GenSim library are used to extract feature sets from abstract and introduction sections of both submitted manuscripts and the reviewer candidates’ papers. Based on the extracted feature sets, affinity and expertise check are implemented. An experiment has been conducted with a data set of over 1,000 papers in the field of DB research to evaluate the performance of this algorithm. The experiment consists of affinity check by using 2-mode network matrix operations and expertise check based on Max Similarity and/or topic clustering. Experimental results show that the recommendation algorithm is reasonable on the basis of scholarly activity assessment and achievements. Our method is designed to optimize the reviewer pool for each journal, client, and this algorithm is designed with an open license and has the advantage of being free to use and operate. In addition, our algorithm has the advantage of journal-specific optimization by designing to adjust the expertise of the reviewer selection and the weights for exclusion of interests to reflect journal-specific policies."
      ]
    },
    {
      "cell_type": "markdown",
      "source": [
        "### Author Summary\n",
        "\n",
        "> Dong-Hoon Choi is a distinguished researcher in Korea Institute of Science and Technology Information. Young Rock Kim is a professor in Graduate School of Education, Hankuk University of Foreign Studies. Jin-Woo Hyun is a research fellows in Hankuk University of Foreign Studies."
      ],
      "metadata": {
        "id": "y--tP79BjoNN"
      }
    },
    {
      "cell_type": "markdown",
      "source": [
        "### Acknowledgments\n",
        "> This work was supported by Institute of Information & communications Technology Planning & Evaluation (IITP) grant funded by the Korea government(MSIT) (No.2019-0-00659, Development of a Blockchain Application Platform for Open Peer Review to Improve Trustworthiness and Transparency for Scholarly Publishing) for the first author. This research was supported by Hankuk University of Foreign Studies Research Fund for Young Rock Kim.\n",
        "\n",
        "> This work was supported by the National Research Foundation of Korea (NRF) grant funded by the Korea government (MSIT) (No. 2021 R1A2C1011467)."
      ],
      "metadata": {
        "id": "8zTiRgiEjrdf"
      }
    },
    {
      "cell_type": "markdown",
      "metadata": {
        "id": "KZaJ4B6vi6Mq"
      },
      "source": [
        "### Version History\n",
        "\n",
        "* v.1.0 : Peer-Reviewer-Recommendation-Algorithm"
      ]
    },
    {
      "cell_type": "markdown",
      "metadata": {
        "id": "S27SPVVGi6Mq"
      },
      "source": [
        "### Contacts\n",
        "\n",
        "Young Rock Kim \n",
        "\n",
        "> Hankuk University of Foreign Studies \\\n",
        "Graduate School of Education \\\n",
        "Major in Mathematics Education\n",
        "\n",
        "> Correspondence: rocky777@hufs.ac.kr"
      ]
    },
    {
      "cell_type": "markdown",
      "metadata": {
        "id": "aZ1k5Us6i6Mr"
      },
      "source": [
        "### License\n",
        "\n",
        "* This code is released under the Apache-2.0 license according to the policy of the original author.\n",
        "* This code is for non-commercial use only. For commercial purposes, please contact the Contacts above.\n",
        "* Codes added/modified to this code are also limited to non-commercial purposes. For commercial purposes, please contact the Contacts above.\n",
        "* We welcome inquiries about application of reviewer recommendation technology and collaboration."
      ]
    },
    {
      "cell_type": "markdown",
      "metadata": {
        "id": "oTYGpTMQi6Mr"
      },
      "source": [
        "---"
      ]
    },
    {
      "cell_type": "code",
      "execution_count": null,
      "metadata": {
        "id": "24JWHcksi6Ms"
      },
      "outputs": [],
      "source": [
        ""
      ]
    }
  ],
  "metadata": {
    "kernelspec": {
      "display_name": "Python 3",
      "language": "python",
      "name": "python3"
    },
    "language_info": {
      "codemirror_mode": {
        "name": "ipython",
        "version": 3
      },
      "file_extension": ".py",
      "mimetype": "text/x-python",
      "name": "python",
      "nbconvert_exporter": "python",
      "pygments_lexer": "ipython3",
      "version": "3.8.3"
    },
    "colab": {
      "name": "About_Algorithm.ipynb",
      "provenance": []
    }
  },
  "nbformat": 4,
  "nbformat_minor": 0
}