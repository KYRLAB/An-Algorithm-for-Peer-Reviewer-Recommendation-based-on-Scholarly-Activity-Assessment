{
 "cells": [
  {
   "cell_type": "markdown",
   "metadata": {},
   "source": [
    "\n",
    "    \n",
    "# An-Algorithm-for-Peer-Reviewer-Recommendation-based-on-Scholarly-Activity-Assessment\n",
    "\n",
    "An Algorithm for Peer Reviewer Recommendation based on Scholarly Activity Assessment\n",
    "\n"
   ]
  },
  {
   "cell_type": "markdown",
   "metadata": {},
   "source": [
    "---"
   ]
  },
  {
   "cell_type": "markdown",
   "metadata": {},
   "source": [
    "<center>\n",
    "<img src=\"../image/an-algorithm-for-peer-reviewer-recommendation.png\"  width=\"550\" height=\"700\">\n",
    "</center>"
   ]
  },
  {
   "cell_type": "markdown",
   "metadata": {},
   "source": [
    "---"
   ]
  },
  {
   "cell_type": "markdown",
   "metadata": {},
   "source": [
    "### Abstract\n",
    "> The journal editor is putting a lot of effort into selecting the appropriate reviewer for the fair and reliable peer review of the submitted manuscript. The editor consider whether the reviewer has sufficient expertise in reviewing the manuscript, as well as whether the reviewer has a close relationship between the reviewer and the authors of the manuscript. Affinity depends on whether the authors of the manuscript are co-authored or belong to the same institution, and the expertise of the reviewer depends on the similarity of the research topic between the reviewer's published papers and the submitted manuscript. Based on the evaluation of these academic activities, this study proposes a reviewer recommendation algorithm that recommends the appropriate reviewer to the editor. Along with this algorithm, the natural language processing algorithm TextRank was used to extract feature sets from abstract and introduction sections of the submitted manuscripts and the reviewer candidates' papers, and based on the extracted feature sets, expertise and affinity checks are conducted. A reviewer recommendation system was implemented based on the library GenSim. To verify this, the performance of the reviewer recommendation system was experimented with data sets of over 1,000 papers in the field of DB research. Recommending peer reviewers based on the scholarly activity assessment is reasonable according to expertise check by similarity measurement, topical classification by agglomerative clustering, affinity check by 2-mode matrix operation."
   ]
  },
  {
   "cell_type": "markdown",
   "metadata": {},
   "source": [
    "### Version History\n",
    "\n",
    "* v.1.0 : Peer-Reviewer-Recommendation-Algorithm"
   ]
  },
  {
   "cell_type": "markdown",
   "metadata": {},
   "source": [
    "### Contacts\n",
    "\n",
    "Young Rock Kim \n",
    "\n",
    "> Hankuk University of Foreign Studies \\\n",
    "Graduate School of Education \\\n",
    "Major in Mathematics Education\n",
    "\n",
    "> Correspondence: rocky777@hufs.ac.kr \\\n",
    "URL: http://math.korea.ac.kr/$\\sim$cfdkim/"
   ]
  },
  {
   "cell_type": "markdown",
   "metadata": {},
   "source": [
    "### License\n",
    "\n",
    "* This code is released under the Apache-2.0 license according to the policy of the original author.\n",
    "* This code is for non-commercial use only. For commercial purposes, please contact the Contacts above.\n",
    "* Codes added/modified to this code are also limited to non-commercial purposes. For commercial purposes, please contact the Contacts above.\n",
    "* We welcome inquiries about application of reviewer recommendation technology and collaboration."
   ]
  },
  {
   "cell_type": "markdown",
   "metadata": {},
   "source": [
    "---"
   ]
  },
  {
   "cell_type": "code",
   "execution_count": null,
   "metadata": {},
   "outputs": [],
   "source": []
  }
 ],
 "metadata": {
  "kernelspec": {
   "display_name": "Python 3",
   "language": "python",
   "name": "python3"
  },
  "language_info": {
   "codemirror_mode": {
    "name": "ipython",
    "version": 3
   },
   "file_extension": ".py",
   "mimetype": "text/x-python",
   "name": "python",
   "nbconvert_exporter": "python",
   "pygments_lexer": "ipython3",
   "version": "3.7.4"
  }
 },
 "nbformat": 4,
 "nbformat_minor": 4
}
